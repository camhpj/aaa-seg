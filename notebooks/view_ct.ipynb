{
 "cells": [
  {
   "cell_type": "code",
   "execution_count": 6,
   "id": "27dcd865",
   "metadata": {},
   "outputs": [],
   "source": [
    "from typing import Any\n",
    "\n",
    "import cv2\n",
    "import matplotlib.pyplot as plt\n",
    "import nrrd\n",
    "import numpy as np\n",
    "from ipywidgets import Button, HBox, IntSlider, Output, Text, VBox\n",
    "\n",
    "\n",
    "class ImageViewer:\n",
    "    def __init__(self) -> None:\n",
    "        self.img, self.mask = None, None\n",
    "        self.fig, self.ax, self.ax_image, self.ax_mask = None, None, None, None\n",
    "        self.output = Output()\n",
    "        self.text_input = Text(placeholder=\"Enter path to nrrd or png file\")\n",
    "        self.button = Button(description=\"Submit\")\n",
    "        self.slider = IntSlider(\n",
    "            orientation=\"horizontal\",\n",
    "            description=\"Slice\",\n",
    "            value=0,\n",
    "            min=0,\n",
    "            max=0,\n",
    "            disabled=True,\n",
    "        )\n",
    "        self.slider.layout.width = \"50%\"\n",
    "\n",
    "        self.button.on_click(self._load_image)\n",
    "        self.slider.observe(self._update_slice, names=\"value\")\n",
    "\n",
    "    def display(self) -> None:\n",
    "        app_layout = VBox(\n",
    "            [\n",
    "                HBox([self.text_input, self.button]),\n",
    "                self.slider,\n",
    "                self.output,\n",
    "            ]\n",
    "        )\n",
    "        display(app_layout)\n",
    "\n",
    "    def _load_image(self, b: Button) -> None:\n",
    "        self.output.clear_output()\n",
    "\n",
    "        filepath = self.text_input.value\n",
    "        if not filepath:\n",
    "            with self.output:\n",
    "                print(\"Error: Please enter a file path.\")\n",
    "            return\n",
    "\n",
    "        try:\n",
    "            path: str = self.text_input.value\n",
    "            if path.endswith(\".nrrd\"):\n",
    "                img, _ = nrrd.read(path)\n",
    "                mask, _ = nrrd.read(path.replace(\".nrrd\", \".seg.nrrd\"))\n",
    "            else:\n",
    "                img = cv2.imread(path, cv2.IMREAD_GRAYSCALE)\n",
    "                img = img[:, :, np.newaxis]\n",
    "                mask = cv2.imread(\n",
    "                    path.replace(\"/images/\", \"/masks/\"), cv2.IMREAD_GRAYSCALE\n",
    "                )\n",
    "                mask = mask[:, :, np.newaxis]\n",
    "\n",
    "            self.img = img\n",
    "            self.mask = mask\n",
    "\n",
    "            self.slider.value = 0\n",
    "            self.slider.max = self.img.shape[-1] - 1\n",
    "            self.slider.disabled = False\n",
    "\n",
    "            with self.output:\n",
    "                self.fig, self.ax = plt.subplots(figsize=(7, 7))\n",
    "                self.ax.axis(\"off\")\n",
    "\n",
    "                self.ax_image = self.ax.imshow(self.img[:, :, 0], cmap=\"gray\")\n",
    "                self.ax_mask = self.ax.imshow(\n",
    "                    np.where(mask[:, :, 0], 1, np.nan), cmap=\"jet\", alpha=0.5\n",
    "                )\n",
    "                plt.show(self.fig)\n",
    "                self.ax.set_title(f\"Slice 1 / {self.slider.max + 1}\")\n",
    "\n",
    "        except Exception as e:\n",
    "            with self.output:\n",
    "                print(f\"An error occurred during image loading: {e}\")\n",
    "            self.slider.disabled = True\n",
    "            self.img, self.mask = None, None\n",
    "            self.fig, self.ax, self.ax_image, self.ax_mask = None, None, None, None\n",
    "\n",
    "    def _display_slice(self, idx: int) -> None:\n",
    "        if self.img is None or self.ax is None:\n",
    "            return\n",
    "\n",
    "        self.ax_image.set_data(self.img[:, :, idx])\n",
    "        self.ax_mask.set_data(np.where(self.mask[:, :, 0], 1, np.nan))\n",
    "        self.ax.set_title(f\"Slice {idx + 1} / {self.slider.max + 1}\")\n",
    "\n",
    "    def _update_slice(self, change: Any):\n",
    "        self._display_slice(change.new)"
   ]
  },
  {
   "cell_type": "code",
   "execution_count": 7,
   "id": "c5718e68",
   "metadata": {},
   "outputs": [
    {
     "data": {
      "application/vnd.jupyter.widget-view+json": {
       "model_id": "b404114153d7486f963198c45ac4867b",
       "version_major": 2,
       "version_minor": 0
      },
      "text/plain": [
       "VBox(children=(HBox(children=(Text(value='', placeholder='Enter path to nrrd or png file'), Button(description…"
      ]
     },
     "metadata": {},
     "output_type": "display_data"
    }
   ],
   "source": [
    "%matplotlib widget\n",
    "\n",
    "# /Users/cameronjohnson/Downloads/14806362/Rider/R3/R3.nrrd\n",
    "# /Users/cameronjohnson/Documents/repos/aaa-seg/data/images/D1_21.png\n",
    "image_viewer = ImageViewer()\n",
    "image_viewer.display()"
   ]
  },
  {
   "cell_type": "code",
   "execution_count": null,
   "id": "4ac9392d-97c0-4c7b-825e-2abfda04d7d8",
   "metadata": {},
   "outputs": [],
   "source": []
  }
 ],
 "metadata": {
  "kernelspec": {
   "display_name": "aaa-seg",
   "language": "python",
   "name": "python3"
  },
  "language_info": {
   "codemirror_mode": {
    "name": "ipython",
    "version": 3
   },
   "file_extension": ".py",
   "mimetype": "text/x-python",
   "name": "python",
   "nbconvert_exporter": "python",
   "pygments_lexer": "ipython3",
   "version": "3.13.2"
  }
 },
 "nbformat": 4,
 "nbformat_minor": 5
}
