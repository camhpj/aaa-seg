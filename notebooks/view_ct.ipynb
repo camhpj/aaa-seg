{
 "cells": [
  {
   "cell_type": "code",
   "execution_count": 15,
   "id": "27dcd865",
   "metadata": {},
   "outputs": [],
   "source": [
    "%matplotlib widget\n",
    "\n",
    "import matplotlib.pyplot as plt\n",
    "import nrrd\n",
    "import numpy as np\n",
    "from ipywidgets import AppLayout, IntSlider\n",
    "\n",
    "\n",
    "def display_ct(img: np.ndarray, mask: np.ndarray) -> None:\n",
    "    plt.ioff()\n",
    "\n",
    "    fig = plt.figure()\n",
    "    fig.canvas.header_visible = False\n",
    "    fig.canvas.layout.min_height = \"400px\"\n",
    "    plt.title(\"Slice 0\")\n",
    "\n",
    "\n",
    "    plt.imshow(img[:, :, 0], cmap=\"gray\")\n",
    "    plt.imshow(\n",
    "        np.where(mask[:, :, 0], 1, np.nan),\n",
    "        cmap=\"jet\",\n",
    "        alpha=0.5\n",
    "    )\n",
    "\n",
    "    def update(change):\n",
    "        plt.title(f\"Slice {change.new}\")\n",
    "        plt.imshow(img[:, :, change.new], cmap=\"gray\")\n",
    "        plt.imshow(\n",
    "            np.where(mask[:, :, change.new], 1, np.nan),\n",
    "            cmap=\"jet\",\n",
    "            alpha=0.5\n",
    "        )\n",
    "        fig.canvas.draw()\n",
    "        fig.canvas.flush_events()\n",
    "\n",
    "    slider = IntSlider(\n",
    "        orientation=\"horizontal\",\n",
    "        description=\"Slice\",\n",
    "        value=0,\n",
    "        min=0,\n",
    "        max=img.shape[-1] - 1\n",
    "    )\n",
    "    slider.layout.width = \"50%\"\n",
    "    slider.observe(update, names=\"value\")\n",
    "\n",
    "    return AppLayout(\n",
    "        center=fig.canvas,\n",
    "        footer=slider,\n",
    "        pane_heights=[0, 6, 1]\n",
    "    )"
   ]
  },
  {
   "cell_type": "code",
   "execution_count": 3,
   "id": "bf4fb327",
   "metadata": {},
   "outputs": [
    {
     "data": {
      "text/plain": [
       "((512, 512, 1140), (512, 512, 1140))"
      ]
     },
     "execution_count": 3,
     "metadata": {},
     "output_type": "execute_result"
    }
   ],
   "source": [
    "img, img_head = nrrd.read(\"/Users/cameronjohnson/Downloads/14806362/Rider/R3/R3.nrrd\")\n",
    "mask, mask_head = nrrd.read(\"/Users/cameronjohnson/Downloads/14806362/Rider/R3/R3.seg.nrrd\")\n",
    "img.shape, mask.shape"
   ]
  },
  {
   "cell_type": "code",
   "execution_count": 16,
   "id": "c5718e68",
   "metadata": {},
   "outputs": [
    {
     "data": {
      "application/vnd.jupyter.widget-view+json": {
       "model_id": "fc9c30bb9bef446aadcd91cf42aa530e",
       "version_major": 2,
       "version_minor": 0
      },
      "text/plain": [
       "AppLayout(children=(IntSlider(value=0, description='Slice', layout=Layout(grid_area='footer', width='50%'), ma…"
      ]
     },
     "execution_count": 16,
     "metadata": {},
     "output_type": "execute_result"
    }
   ],
   "source": [
    "display_ct(img, mask)"
   ]
  },
  {
   "cell_type": "code",
   "execution_count": 22,
   "id": "1b84bc33",
   "metadata": {},
   "outputs": [
    {
     "data": {
      "text/plain": [
       "((512, 512), (512, 512))"
      ]
     },
     "execution_count": 22,
     "metadata": {},
     "output_type": "execute_result"
    }
   ],
   "source": [
    "import cv2\n",
    "\n",
    "img = cv2.imread(\"/Users/cameronjohnson/Documents/repos/aaa-seg/data/images/D12_100.png\", cv2.IMREAD_GRAYSCALE)\n",
    "mask = cv2.imread(\"/Users/cameronjohnson/Documents/repos/aaa-seg/data/masks/D12_100.png\", cv2.IMREAD_GRAYSCALE)\n",
    "img.shape, mask.shape"
   ]
  },
  {
   "cell_type": "code",
   "execution_count": 23,
   "id": "147ab4b0",
   "metadata": {},
   "outputs": [
    {
     "data": {
      "application/vnd.jupyter.widget-view+json": {
       "model_id": "4e1028621628491cbccaa2048e6cab5b",
       "version_major": 2,
       "version_minor": 0
      },
      "text/plain": [
       "AppLayout(children=(IntSlider(value=0, description='Slice', layout=Layout(grid_area='footer', width='50%'), ma…"
      ]
     },
     "execution_count": 23,
     "metadata": {},
     "output_type": "execute_result"
    }
   ],
   "source": [
    "display_ct(img[:, :, np.newaxis], mask[:, :, np.newaxis])"
   ]
  }
 ],
 "metadata": {
  "kernelspec": {
   "display_name": "aaa-seg",
   "language": "python",
   "name": "python3"
  },
  "language_info": {
   "codemirror_mode": {
    "name": "ipython",
    "version": 3
   },
   "file_extension": ".py",
   "mimetype": "text/x-python",
   "name": "python",
   "nbconvert_exporter": "python",
   "pygments_lexer": "ipython3",
   "version": "3.13.2"
  }
 },
 "nbformat": 4,
 "nbformat_minor": 5
}
